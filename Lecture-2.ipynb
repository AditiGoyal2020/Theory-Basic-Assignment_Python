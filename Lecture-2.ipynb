{
 "cells": [
  {
   "cell_type": "code",
   "execution_count": 1,
   "id": "descending-swiss",
   "metadata": {},
   "outputs": [
    {
     "data": {
      "text/plain": [
       "2"
      ]
     },
     "execution_count": 1,
     "metadata": {},
     "output_type": "execute_result"
    }
   ],
   "source": [
    "1+1\n"
   ]
  },
  {
   "cell_type": "code",
   "execution_count": 2,
   "id": "cloudy-paper",
   "metadata": {},
   "outputs": [
    {
     "data": {
      "text/plain": [
       "10"
      ]
     },
     "execution_count": 2,
     "metadata": {},
     "output_type": "execute_result"
    }
   ],
   "source": [
    "a = 10\n",
    "a"
   ]
  },
  {
   "cell_type": "code",
   "execution_count": 3,
   "id": "complex-daniel",
   "metadata": {},
   "outputs": [
    {
     "data": {
      "text/plain": [
       "int"
      ]
     },
     "execution_count": 3,
     "metadata": {},
     "output_type": "execute_result"
    }
   ],
   "source": [
    "type(a)"
   ]
  },
  {
   "cell_type": "code",
   "execution_count": 11,
   "id": "living-drama",
   "metadata": {},
   "outputs": [],
   "source": [
    "sudh = 6 +1j"
   ]
  },
  {
   "cell_type": "code",
   "execution_count": 12,
   "id": "dress-nursing",
   "metadata": {},
   "outputs": [
    {
     "data": {
      "text/plain": [
       "complex"
      ]
     },
     "execution_count": 12,
     "metadata": {},
     "output_type": "execute_result"
    }
   ],
   "source": [
    "type(sudh)"
   ]
  },
  {
   "cell_type": "code",
   "execution_count": 14,
   "id": "golden-oriental",
   "metadata": {},
   "outputs": [
    {
     "data": {
      "text/plain": [
       "6.0"
      ]
     },
     "execution_count": 14,
     "metadata": {},
     "output_type": "execute_result"
    }
   ],
   "source": [
    "sudh.real"
   ]
  },
  {
   "cell_type": "code",
   "execution_count": 15,
   "id": "accomplished-techno",
   "metadata": {},
   "outputs": [],
   "source": [
    "b = 34.7"
   ]
  },
  {
   "cell_type": "code",
   "execution_count": 16,
   "id": "divine-gathering",
   "metadata": {},
   "outputs": [],
   "source": [
    "c =  True"
   ]
  },
  {
   "cell_type": "code",
   "execution_count": 17,
   "id": "electric-accuracy",
   "metadata": {},
   "outputs": [
    {
     "data": {
      "text/plain": [
       "2"
      ]
     },
     "execution_count": 17,
     "metadata": {},
     "output_type": "execute_result"
    }
   ],
   "source": [
    "True + True"
   ]
  },
  {
   "cell_type": "code",
   "execution_count": 20,
   "id": "british-stupid",
   "metadata": {},
   "outputs": [
    {
     "data": {
      "text/plain": [
       "1"
      ]
     },
     "execution_count": 20,
     "metadata": {},
     "output_type": "execute_result"
    }
   ],
   "source": [
    "#this is a code for bollean variable undersatnding\n",
    "True + False"
   ]
  },
  {
   "cell_type": "code",
   "execution_count": 21,
   "id": "desirable-phase",
   "metadata": {},
   "outputs": [
    {
     "data": {
      "text/plain": [
       "'nvjfhjhj\\nfdjfjd\\njhdjshj\\njdshjh\\ndjshj\\nsjh\\nhj\\nb'"
      ]
     },
     "execution_count": 21,
     "metadata": {},
     "output_type": "execute_result"
    }
   ],
   "source": [
    "\"\"\"nvjfhjhj\n",
    "fdjfjd\n",
    "jhdjshj\n",
    "jdshjh\n",
    "djshj\n",
    "sjh\n",
    "hj\n",
    "b\"\"\""
   ]
  },
  {
   "cell_type": "code",
   "execution_count": 22,
   "id": "union-european",
   "metadata": {},
   "outputs": [],
   "source": [
    "s = \"my name is aditi\""
   ]
  },
  {
   "cell_type": "code",
   "execution_count": 23,
   "id": "green-cover",
   "metadata": {},
   "outputs": [
    {
     "data": {
      "text/plain": [
       "str"
      ]
     },
     "execution_count": 23,
     "metadata": {},
     "output_type": "execute_result"
    }
   ],
   "source": [
    "type(s)"
   ]
  },
  {
   "cell_type": "code",
   "execution_count": 25,
   "id": "environmental-mozambique",
   "metadata": {},
   "outputs": [
    {
     "name": "stdout",
     "output_type": "stream",
     "text": [
      "my name is aditi\n"
     ]
    }
   ],
   "source": [
    "print(s)"
   ]
  },
  {
   "cell_type": "code",
   "execution_count": 30,
   "id": "digital-washington",
   "metadata": {},
   "outputs": [
    {
     "data": {
      "text/plain": [
       "''"
      ]
     },
     "execution_count": 30,
     "metadata": {},
     "output_type": "execute_result"
    }
   ],
   "source": [
    "s = 'ineuron'\n",
    "\n",
    "s[0:5:-1]\n"
   ]
  },
  {
   "cell_type": "code",
   "execution_count": 31,
   "id": "structural-surgery",
   "metadata": {},
   "outputs": [
    {
     "data": {
      "text/plain": [
       "140443411033584"
      ]
     },
     "execution_count": 31,
     "metadata": {},
     "output_type": "execute_result"
    }
   ],
   "source": [
    "id(s)"
   ]
  },
  {
   "cell_type": "code",
   "execution_count": 33,
   "id": "configured-tomato",
   "metadata": {},
   "outputs": [],
   "source": [
    "#primitive data type"
   ]
  },
  {
   "cell_type": "code",
   "execution_count": 34,
   "id": "finnish-chancellor",
   "metadata": {},
   "outputs": [],
   "source": [
    "c = []"
   ]
  },
  {
   "cell_type": "code",
   "execution_count": 35,
   "id": "choice-snapshot",
   "metadata": {},
   "outputs": [
    {
     "data": {
      "text/plain": [
       "list"
      ]
     },
     "execution_count": 35,
     "metadata": {},
     "output_type": "execute_result"
    }
   ],
   "source": [
    "type(c)"
   ]
  },
  {
   "cell_type": "code",
   "execution_count": 36,
   "id": "rental-zoning",
   "metadata": {},
   "outputs": [
    {
     "data": {
      "text/plain": [
       "list"
      ]
     },
     "execution_count": 36,
     "metadata": {},
     "output_type": "execute_result"
    }
   ],
   "source": [
    "s = list()\n",
    "type(s)"
   ]
  },
  {
   "cell_type": "code",
   "execution_count": null,
   "id": "postal-greeting",
   "metadata": {},
   "outputs": [],
   "source": [
    "c = [1, \"sudh\", 'kumar', 45.45]"
   ]
  },
  {
   "cell_type": "code",
   "execution_count": null,
   "id": "thrown-thanks",
   "metadata": {},
   "outputs": [],
   "source": []
  },
  {
   "cell_type": "code",
   "execution_count": null,
   "id": "imported-invitation",
   "metadata": {},
   "outputs": [],
   "source": []
  },
  {
   "cell_type": "code",
   "execution_count": null,
   "id": "radio-ancient",
   "metadata": {},
   "outputs": [],
   "source": []
  },
  {
   "cell_type": "code",
   "execution_count": null,
   "id": "reverse-black",
   "metadata": {},
   "outputs": [],
   "source": []
  },
  {
   "cell_type": "code",
   "execution_count": 4,
   "id": "alive-pillow",
   "metadata": {},
   "outputs": [],
   "source": [
    "#Write a Python program to check if all dictionaries in a list are empty or not."
   ]
  },
  {
   "cell_type": "code",
   "execution_count": 5,
   "id": "arbitrary-diabetes",
   "metadata": {},
   "outputs": [],
   "source": [
    "my_list1 = [{},{},{}]\n",
    "my_list2 = [{123,2345},{},{}]"
   ]
  },
  {
   "cell_type": "code",
   "execution_count": 6,
   "id": "adolescent-client",
   "metadata": {},
   "outputs": [
    {
     "name": "stdout",
     "output_type": "stream",
     "text": [
      "True\n"
     ]
    }
   ],
   "source": [
    "print(all(not d for d in my_list1))"
   ]
  },
  {
   "cell_type": "code",
   "execution_count": 7,
   "id": "prerequisite-failing",
   "metadata": {},
   "outputs": [
    {
     "name": "stdout",
     "output_type": "stream",
     "text": [
      "False\n"
     ]
    }
   ],
   "source": [
    "print(all(not x for x in my_list2 ))"
   ]
  },
  {
   "cell_type": "code",
   "execution_count": 8,
   "id": "loaded-sterling",
   "metadata": {},
   "outputs": [],
   "source": [
    "\n",
    "def my_empty_list(list):\n",
    "    for i in list:\n",
    "        if i in i== \"\":\n",
    "            print(\"empty_dict\")\n",
    "        else:\n",
    "            print(\"not a empty_dict \")"
   ]
  },
  {
   "cell_type": "code",
   "execution_count": 9,
   "id": "organizational-ceramic",
   "metadata": {},
   "outputs": [
    {
     "ename": "TypeError",
     "evalue": "unhashable type: 'dict'",
     "output_type": "error",
     "traceback": [
      "\u001b[0;31m---------------------------------------------------------------------------\u001b[0m",
      "\u001b[0;31mTypeError\u001b[0m                                 Traceback (most recent call last)",
      "\u001b[0;32m<ipython-input-9-2338e063f30e>\u001b[0m in \u001b[0;36m<module>\u001b[0;34m\u001b[0m\n\u001b[0;32m----> 1\u001b[0;31m \u001b[0mmy_empty_list\u001b[0m\u001b[0;34m(\u001b[0m\u001b[0mmy_list1\u001b[0m\u001b[0;34m)\u001b[0m\u001b[0;34m\u001b[0m\u001b[0;34m\u001b[0m\u001b[0m\n\u001b[0m",
      "\u001b[0;32m<ipython-input-8-bf0ef41740e4>\u001b[0m in \u001b[0;36mmy_empty_list\u001b[0;34m(list)\u001b[0m\n\u001b[1;32m      1\u001b[0m \u001b[0;32mdef\u001b[0m \u001b[0mmy_empty_list\u001b[0m\u001b[0;34m(\u001b[0m\u001b[0mlist\u001b[0m\u001b[0;34m)\u001b[0m\u001b[0;34m:\u001b[0m\u001b[0;34m\u001b[0m\u001b[0;34m\u001b[0m\u001b[0m\n\u001b[1;32m      2\u001b[0m     \u001b[0;32mfor\u001b[0m \u001b[0mi\u001b[0m \u001b[0;32min\u001b[0m \u001b[0mlist\u001b[0m\u001b[0;34m:\u001b[0m\u001b[0;34m\u001b[0m\u001b[0;34m\u001b[0m\u001b[0m\n\u001b[0;32m----> 3\u001b[0;31m         \u001b[0;32mif\u001b[0m \u001b[0mi\u001b[0m \u001b[0;32min\u001b[0m \u001b[0mi\u001b[0m\u001b[0;34m==\u001b[0m \u001b[0;34m\"\"\u001b[0m\u001b[0;34m:\u001b[0m\u001b[0;34m\u001b[0m\u001b[0;34m\u001b[0m\u001b[0m\n\u001b[0m\u001b[1;32m      4\u001b[0m             \u001b[0mprint\u001b[0m\u001b[0;34m(\u001b[0m\u001b[0;34m\"empty_dict\"\u001b[0m\u001b[0;34m)\u001b[0m\u001b[0;34m\u001b[0m\u001b[0;34m\u001b[0m\u001b[0m\n\u001b[1;32m      5\u001b[0m         \u001b[0;32melse\u001b[0m\u001b[0;34m:\u001b[0m\u001b[0;34m\u001b[0m\u001b[0;34m\u001b[0m\u001b[0m\n",
      "\u001b[0;31mTypeError\u001b[0m: unhashable type: 'dict'"
     ]
    }
   ],
   "source": [
    "my_empty_list(my_list1)"
   ]
  },
  {
   "cell_type": "code",
   "execution_count": null,
   "id": "virgin-poker",
   "metadata": {},
   "outputs": [],
   "source": []
  },
  {
   "cell_type": "code",
   "execution_count": null,
   "id": "designing-smile",
   "metadata": {},
   "outputs": [],
   "source": []
  },
  {
   "cell_type": "code",
   "execution_count": null,
   "id": "ceramic-surveillance",
   "metadata": {},
   "outputs": [],
   "source": []
  },
  {
   "cell_type": "code",
   "execution_count": null,
   "id": "analyzed-refrigerator",
   "metadata": {},
   "outputs": [],
   "source": []
  },
  {
   "cell_type": "code",
   "execution_count": null,
   "id": "adjusted-subsection",
   "metadata": {},
   "outputs": [],
   "source": []
  },
  {
   "cell_type": "code",
   "execution_count": null,
   "id": "numerical-colon",
   "metadata": {},
   "outputs": [],
   "source": []
  }
 ],
 "metadata": {
  "kernelspec": {
   "display_name": "Python 3",
   "language": "python",
   "name": "python3"
  },
  "language_info": {
   "codemirror_mode": {
    "name": "ipython",
    "version": 3
   },
   "file_extension": ".py",
   "mimetype": "text/x-python",
   "name": "python",
   "nbconvert_exporter": "python",
   "pygments_lexer": "ipython3",
   "version": "3.8.6"
  }
 },
 "nbformat": 4,
 "nbformat_minor": 5
}
